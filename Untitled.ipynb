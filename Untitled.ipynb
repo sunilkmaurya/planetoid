{
 "cells": [
  {
   "cell_type": "code",
   "execution_count": 1,
   "metadata": {
    "collapsed": true
   },
   "outputs": [],
   "source": [
    "# to check the statistics of planetoid classification\n",
    "\n",
    "import networkx as nx\n",
    "import numpy as np\n",
    "import cPickle as pickle\n",
    "graph_path = './data/'\n"
   ]
  },
  {
   "cell_type": "code",
   "execution_count": 12,
   "metadata": {},
   "outputs": [
    {
     "name": "stdout",
     "output_type": "stream",
     "text": [
      "140\n",
      "for edges loaded graph\n",
      "3\n",
      "[u'2539', u'2700', u'971']\n",
      "for planetoid graph:\n",
      "1\n",
      "[2668]\n"
     ]
    }
   ],
   "source": [
    "def get_data(dataset):\n",
    "    \n",
    "    with open(dataset+\"_result.pickle\",\"rb\") as f:\n",
    "        tx,ty,tpy = pickle.load(f)\n",
    "    g_file = open(graph_path+\"trans.\"+dataset+\".graph\",'rb')\n",
    "    graph = nx.from_dict_of_lists(pickle.load(g_file))\n",
    "        \n",
    "    #result = comp_accu(tpy,ty)\n",
    "    temp_g = nx.read_edgelist(dataset+\".edges\")\n",
    "    f1 = open(graph_path+\"trans.\"+dataset+\".x\")\n",
    "    temp_x = pickle.load(f1)\n",
    "    index = temp_x.shape[0]\n",
    "    \n",
    "    print(index)\n",
    "    print(\"for edges loaded graph\")\n",
    "    print(temp_g.degree(str(index)))\n",
    "    print(temp_g.neighbors(str(index)))\n",
    "    \n",
    "    print(\"for planetoid graph:\")\n",
    "    print(graph.degree(index))\n",
    "    print(graph.neighbors(index))\n",
    "    \n",
    "\n",
    "    \n",
    "        \n",
    "        \n",
    "\n",
    "\n",
    "\n",
    "dataset = ['cora','citeseer','pubmed']\n",
    "#for d in dataset[0]:\n",
    "#   get_data(d)\n",
    "g_nodes = get_data('cora')\n",
    "\n",
    "    \n",
    "        "
   ]
  },
  {
   "cell_type": "code",
   "execution_count": 10,
   "metadata": {},
   "outputs": [
    {
     "data": {
      "text/plain": [
       "[0, 1, 2, 3, 4, 5, 6, 7, 8]"
      ]
     },
     "execution_count": 10,
     "metadata": {},
     "output_type": "execute_result"
    }
   ],
   "source": [
    "g_nodes[0:9]"
   ]
  },
  {
   "cell_type": "markdown",
   "metadata": {},
   "source": [
    " f1 = open('./data/'+\"trans.citeseer.graph\",'rb')\n"
   ]
  },
  {
   "cell_type": "code",
   "execution_count": 5,
   "metadata": {
    "collapsed": true
   },
   "outputs": [],
   "source": [
    "def comp_accu(tpy, ty):\n",
    "            import numpy as np\n",
    "            return (np.argmax(tpy, axis = 1) == np.argmax(ty, axis = 1)).sum() * 1.0 / tpy.shape[0]"
   ]
  },
  {
   "cell_type": "code",
   "execution_count": 2,
   "metadata": {},
   "outputs": [
    {
     "name": "stdout",
     "output_type": "stream",
     "text": [
      "Name: \n",
      "Type: Graph\n",
      "Number of nodes: 2708\n",
      "Number of edges: 5278\n",
      "Average degree:   3.8981\n",
      "Train ratio: Default with planetoid\n",
      "micro: 0.737\n",
      "macro: 0.7349325009425903\n",
      "samples: 0.737\n",
      "weighted: 0.7379949723740628\n",
      "Accuracy: 0.737\n",
      "\n"
     ]
    }
   ],
   "source": [
    "from utils import simple_classify_f1\n",
    "\n",
    "simple_classify_f1('cora')"
   ]
  },
  {
   "cell_type": "code",
   "execution_count": 3,
   "metadata": {},
   "outputs": [
    {
     "name": "stdout",
     "output_type": "stream",
     "text": [
      "Name: \n",
      "Type: Graph\n",
      "Number of nodes: 3327\n",
      "Number of edges: 4676\n",
      "Average degree:   2.8109\n",
      "Train ratio: Default with planetoid\n",
      "micro: 0.647\n",
      "macro: 0.6264761005126618\n",
      "samples: 0.647\n",
      "weighted: 0.6389512022765614\n",
      "Accuracy: 0.647\n",
      "\n"
     ]
    }
   ],
   "source": [
    "simple_classify_f1('citeseer')"
   ]
  },
  {
   "cell_type": "code",
   "execution_count": 4,
   "metadata": {},
   "outputs": [
    {
     "name": "stdout",
     "output_type": "stream",
     "text": [
      "Name: \n",
      "Type: Graph\n",
      "Number of nodes: 19717\n",
      "Number of edges: 44327\n",
      "Average degree:   4.4963\n",
      "Train ratio: Default with planetoid\n",
      "micro: 0.5\n",
      "macro: 0.46025117941378574\n",
      "samples: 0.5\n",
      "weighted: 0.5375417663624983\n",
      "Accuracy: 0.5\n",
      "\n"
     ]
    }
   ],
   "source": [
    "simple_classify_f1('pubmed')"
   ]
  },
  {
   "cell_type": "code",
   "execution_count": null,
   "metadata": {
    "collapsed": true
   },
   "outputs": [],
   "source": []
  }
 ],
 "metadata": {
  "kernelspec": {
   "display_name": "Python 2",
   "language": "python",
   "name": "python2"
  },
  "language_info": {
   "codemirror_mode": {
    "name": "ipython",
    "version": 2
   },
   "file_extension": ".py",
   "mimetype": "text/x-python",
   "name": "python",
   "nbconvert_exporter": "python",
   "pygments_lexer": "ipython2",
   "version": "2.7.14"
  }
 },
 "nbformat": 4,
 "nbformat_minor": 2
}
